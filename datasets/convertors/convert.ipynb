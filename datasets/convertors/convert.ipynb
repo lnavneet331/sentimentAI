{
 "cells": [
  {
   "attachments": {},
   "cell_type": "markdown",
   "metadata": {},
   "source": [
    "Neutral\n",
    "Positive\n",
    "Negative"
   ]
  },
  {
   "cell_type": "code",
   "execution_count": 1,
   "metadata": {},
   "outputs": [],
   "source": [
    "import csv\n",
    "\n",
    "txt = open('../txts/all-data.txt', 'w+')\n",
    "\n",
    "extract = []\n",
    "with open('../csvs/all-data.csv', 'r', encoding=\"ISO-8859-1\") as f:\n",
    "    reader = csv.reader(f)\n",
    "    for row in reader:\n",
    "        extract.append(row)\n",
    "    \n",
    "#print(extract)\n",
    "\n",
    "for i in extract:\n",
    "    string = f\"\\\"{i[0]}\\\", \\\"{i[1]}\\\"\\n\"\n",
    "    txt.writelines(string)\n",
    "\n",
    "\n",
    "txt.close()"
   ]
  },
  {
   "cell_type": "code",
   "execution_count": 2,
   "metadata": {},
   "outputs": [],
   "source": [
    "import csv\n",
    "\n",
    "txt = open('../txts/movie.txt', 'w+')\n",
    "\n",
    "extract = []\n",
    "with open('../csvs/movie.csv', 'r', encoding=\"ISO-8859-1\") as f:\n",
    "    reader = csv.reader(f)\n",
    "    for row in reader:\n",
    "        extract.append(row)\n",
    "    \n",
    "#print(extract)\n",
    "\n",
    "for i in extract:\n",
    "    sediment = \"\"\n",
    "    if i[1] == \"0\":\n",
    "        sediment = \"negative\"\n",
    "    elif i[1] == \"1\":\n",
    "        sediment = \"positive\"\n",
    "    string = f\"\\\"{sediment}\\\", \\\"{i[0]}\\\"\\n\"\n",
    "    txt.writelines(string)\n",
    "\n",
    "\n",
    "txt.close()"
   ]
  },
  {
   "cell_type": "code",
   "execution_count": 3,
   "metadata": {},
   "outputs": [],
   "source": [
    "#0 = neutral\n",
    "#1 = positive\n",
    "#-1 = negative\n",
    "\n",
    "import csv\n",
    "\n",
    "txt = open('../txts/reddit.txt', 'w+')\n",
    "\n",
    "extract = []\n",
    "with open('../csvs/Reddit_Data.csv', 'r', encoding=\"ISO-8859-1\") as f:\n",
    "    reader = csv.reader(f)\n",
    "    for row in reader:\n",
    "        extract.append(row)\n",
    "    \n",
    "#print(extract)\n",
    "\n",
    "for i in extract:\n",
    "    sediment = \"\"\n",
    "    if i[1] == \"0\":\n",
    "        sediment = \"neutral\"\n",
    "    elif i[1] == \"1\":\n",
    "        sediment = \"positive\"\n",
    "    elif i[1] == \"-1\":\n",
    "        sediment = \"negative\"\n",
    "    string = f\"\\\"{sediment}\\\", \\\"{i[0]}\\\"\\n\"\n",
    "    txt.writelines(string)\n",
    "\n",
    "\n",
    "txt.close()"
   ]
  },
  {
   "cell_type": "code",
   "execution_count": 4,
   "metadata": {},
   "outputs": [],
   "source": [
    "#0 = neutral\n",
    "#1 = positive\n",
    "#-1 = negative\n",
    "\n",
    "import csv\n",
    "\n",
    "txt = open('../txts/big.txt', 'w+')\n",
    "\n",
    "extract = []\n",
    "with open('../csvs/16sg.csv', 'r', encoding=\"ISO-8859-1\") as f:\n",
    "    reader = csv.reader(f)\n",
    "    for row in reader:\n",
    "        extract.append(row)\n",
    "    \n",
    "#print(extract)\n",
    "\n",
    "for i in extract:\n",
    "    sediment = \"\"\n",
    "    if i[0] == \"2\":\n",
    "        sediment = \"neutral\"\n",
    "    elif i[0] == \"4\":\n",
    "        sediment = \"positive\"\n",
    "    elif i[0] == \"0\":\n",
    "        sediment = \"negative\"\n",
    "    string = f\"\\\"{sediment}\\\", \\\"{i[5]}\\\"\\n\"\n",
    "    txt.writelines(string)\n",
    "\n",
    "\n",
    "txt.close()"
   ]
  },
  {
   "attachments": {},
   "cell_type": "markdown",
   "metadata": {},
   "source": [
    "#Combining all the Data"
   ]
  },
  {
   "cell_type": "code",
   "execution_count": 9,
   "metadata": {},
   "outputs": [],
   "source": [
    "file1 = open(\"../txts/all-data.txt\", \"w+\")\n",
    "file2 = open(\"../txts/movie.txt\", \"r\")\n",
    "file3 = open(\"../txts/reddit.txt\", \"r\")\n",
    "file4 = open(\"../txts/big.txt\", \"r\")\n",
    "file5 = open(\"../txts/all.txt\", \"r\")\n",
    "\n",
    "for line in file2:\n",
    "    file1.writelines(line)\n",
    "\n",
    "for line in file3:\n",
    "    file1.writelines(line)\n",
    "\n",
    "for line in file4:\n",
    "    file1.writelines(line)\n",
    "\n",
    "for line in file5:\n",
    "    file1.writelines(line)\n",
    "\n",
    "file1.close()\n",
    "file2.close()\n",
    "file3.close()\n",
    "file4.close()\n",
    "file5.close()"
   ]
  },
  {
   "cell_type": "code",
   "execution_count": null,
   "metadata": {},
   "outputs": [],
   "source": [
    "file1 = open(\"../txts/all-data.txt\", \"r\")\n",
    "file2 = open(\"../data.txt\", \"w+\")\n",
    "\n",
    "for line in file1:\n",
    "    file2.writelines(line)\n",
    "\n",
    "\n",
    "file1.close()\n",
    "file2.close()"
   ]
  },
  {
   "cell_type": "code",
   "execution_count": null,
   "metadata": {},
   "outputs": [],
   "source": []
  }
 ],
 "metadata": {
  "kernelspec": {
   "display_name": "Python 3",
   "language": "python",
   "name": "python3"
  },
  "language_info": {
   "codemirror_mode": {
    "name": "ipython",
    "version": 3
   },
   "file_extension": ".py",
   "mimetype": "text/x-python",
   "name": "python",
   "nbconvert_exporter": "python",
   "pygments_lexer": "ipython3",
   "version": "3.10.6 (main, Nov 14 2022, 16:10:14) [GCC 11.3.0]"
  },
  "orig_nbformat": 4,
  "vscode": {
   "interpreter": {
    "hash": "e7370f93d1d0cde622a1f8e1c04877d8463912d04d973331ad4851f04de6915a"
   }
  }
 },
 "nbformat": 4,
 "nbformat_minor": 2
}
