{
 "cells": [
  {
   "cell_type": "code",
   "execution_count": null,
   "metadata": {},
   "outputs": [],
   "source": [
    "extract = []\n",
    "file = open(\"data.txt\", \"r\")\n",
    "for i in file:\n",
    "    extract.append(i)\n",
    "    "
   ]
  },
  {
   "cell_type": "code",
   "execution_count": null,
   "metadata": {},
   "outputs": [],
   "source": [
    "print(f\"Size of list before removal of duplicates: {len(extract)}\")\n",
    "res = [*set(extract)]\n",
    "print(f\"Size of list after removal of duplicates: {len(res)}\")\n",
    "print(f\"Number of duplicates removed: {len(extract) - len(res)}\")"
   ]
  },
  {
   "attachments": {},
   "cell_type": "markdown",
   "metadata": {},
   "source": [
    "-1 => negative <br>\n",
    "0 => neutral <br>\n",
    "1 => positive <br>"
   ]
  },
  {
   "cell_type": "code",
   "execution_count": null,
   "metadata": {},
   "outputs": [],
   "source": [
    "new = []\n",
    "for i in res:\n",
    "    if \"negative\" in i:\n",
    "        new.append(i.replace(\"negative\", \"-1\"))\n",
    "    elif \"positive\" in i:\n",
    "        new.append(i.replace(\"positive\", \"1\"))\n",
    "    elif \"neutral\" in i:\n",
    "        new.append(i.replace(\"neutral\", \"0\"))"
   ]
  },
  {
   "cell_type": "code",
   "execution_count": null,
   "metadata": {},
   "outputs": [],
   "source": [
    "file = open(\"cleaned_data.txt\", \"w+\")\n",
    "for i in new:\n",
    "    file.write(i)\n",
    "file.close()"
   ]
  },
  {
   "cell_type": "code",
   "execution_count": null,
   "metadata": {},
   "outputs": [],
   "source": [
    "!rm data.txt\n",
    "!mv cleaned_data.txt data.txt"
   ]
  },
  {
   "cell_type": "code",
   "execution_count": null,
   "metadata": {},
   "outputs": [],
   "source": [
    "import nltk\n",
    "nltk.download('stopwords')\n",
    "from nltk.corpus import stopwords\n",
    "\n",
    "stop_words = set(stopwords.words('english'))\n",
    "\n",
    "def remove_stop_words(text):\n",
    "    words = text.split()\n",
    "    words_without_stop_words = [word for word in words if word.lower() not in stop_words]\n",
    "    return ' '.join(words_without_stop_words)\n",
    "\n",
    "with open('data.txt', 'r') as file:\n",
    "    lines = file.readlines()\n",
    "    preprocessed_data = []\n",
    "    for line in lines:\n",
    "        values = line.strip().split(',')\n",
    "        if len(values) != 2:\n",
    "            print(f'Error: Unexpected number of values ({len(values)}) in line: {line}')\n",
    "            continue\n",
    "        label, text = values\n",
    "        text = text.strip().strip('\"')\n",
    "        preprocessed_text = remove_stop_words(text)\n",
    "        preprocessed_data.append((label, preprocessed_text))\n",
    "\n",
    "with open('preprocessed_data.txt', 'w') as file:\n",
    "    for label, text in preprocessed_data:\n",
    "        file.write(f'{label},\"{text}\"\\n')\n"
   ]
  },
  {
   "cell_type": "code",
   "execution_count": null,
   "metadata": {},
   "outputs": [],
   "source": [
    "import re\n",
    "\n",
    "def remove_punctuation_and_special_characters(text):\n",
    "    # Remove punctuation and special characters\n",
    "    text = re.sub(r'[^\\w\\s]', '', text)\n",
    "    \n",
    "    # Convert to lowercase\n",
    "    text = text.lower()\n",
    "    \n",
    "    return text\n",
    "\n",
    "preprocessed_data = []\n",
    "with open(\"preprocessed_data.txt\") as f:\n",
    "    for line in f:\n",
    "        label, text = line.strip().split(',', 1)\n",
    "        text = remove_punctuation_and_special_characters(text)\n",
    "        preprocessed_data.append((label, text))\n",
    "\n",
    "# Save the cleaned text data to a file\n",
    "with open(\"result.txt\", \"w\") as f:\n",
    "    for label, text in preprocessed_data:\n",
    "        f.write(\"{},{}\\n\".format(label, text))\n"
   ]
  },
  {
   "cell_type": "code",
   "execution_count": null,
   "metadata": {},
   "outputs": [],
   "source": [
    "preprocessed_data = []\n",
    "with open(\"result.txt\") as f:\n",
    "    for line in f:\n",
    "        try:\n",
    "            label, text = line.strip().split(',', 1)\n",
    "            if label == \"positive\":\n",
    "                label = \"1\"\n",
    "            label = int(label.strip('\"'))\n",
    "            preprocessed_data.append([label, text])\n",
    "        except:\n",
    "            print(f\"Error: {line}\")\n",
    "#        print(f\"data appeneded: {label} {text}\")\n",
    "\n",
    "print(preprocessed_data)\n",
    "\n",
    "with open(\"result_data.txt\", \"w\") as f:\n",
    "    for label, text in preprocessed_data:\n",
    "        print(label, text)\n",
    "        f.write(f\"{label},{text}\\n\")\n"
   ]
  },
  {
   "cell_type": "code",
   "execution_count": 10,
   "metadata": {},
   "outputs": [
    {
     "name": "stderr",
     "output_type": "stream",
     "text": [
      "[nltk_data] Downloading package punkt to /home/nav/nltk_data...\n",
      "[nltk_data]   Unzipping tokenizers/punkt.zip.\n"
     ]
    }
   ],
   "source": [
    "#tokenize the data\n",
    "\n",
    "import nltk\n",
    "nltk.download('punkt')\n",
    "from nltk.tokenize import word_tokenize\n",
    "\n",
    "preprocessed_data = []\n",
    "with open(\"result_data.txt\") as f:\n",
    "    for line in f:\n",
    "        label, text = line.strip().split(',', 1)\n",
    "        label = int(label)\n",
    "        text = word_tokenize(text)\n",
    "        preprocessed_data.append((label, text))\n",
    "\n",
    "with open(\"tokenized_data.txt\", \"w\") as f:\n",
    "    for label, text in preprocessed_data:\n",
    "        f.write(f\"{label}:{' '.join(text)}\\n\")\n"
   ]
  },
  {
   "attachments": {},
   "cell_type": "markdown",
   "metadata": {},
   "source": [
    "<h3>converting text to numerical data<br></h3>"
   ]
  },
  {
   "cell_type": "code",
   "execution_count": 18,
   "metadata": {},
   "outputs": [],
   "source": [
    "from gensim.models import Word2Vec\n",
    "from tqdm import tqdm\n",
    "\n",
    "def run_word2vec(tokenized_data_file, size=100, window=5, min_count=5, workers=4):\n",
    "    # load the tokenized data\n",
    "    with open(tokenized_data_file, \"r\") as f:\n",
    "        corpus = [line.strip().split() for line in f.readlines()]\n",
    "        \n",
    "    # train the word2vec model\n",
    "    model = Word2Vec(corpus, vector_size=size, window=window, min_count=min_count, workers=workers, sg=1)\n",
    "    \n",
    "    # save the model\n",
    "    model.save(\"word2vec.model\")\n",
    "    \n",
    "    # return the trained model\n",
    "    return model\n",
    "\n",
    "# call the run_word2vec function\n",
    "model = run_word2vec(\"tokenized_data.txt\")\n"
   ]
  },
  {
   "cell_type": "code",
   "execution_count": 3,
   "metadata": {},
   "outputs": [
    {
     "name": "stderr",
     "output_type": "stream",
     "text": [
      "100%|██████████| 1255135/1255135 [01:04<00:00, 19446.80it/s]\n"
     ]
    }
   ],
   "source": [
    "import numpy as np\n",
    "from tqdm import tqdm\n",
    "from gensim.models import Word2Vec\n",
    "\n",
    "word2vec_model = Word2Vec.load(\"word2vec.model\")\n",
    "\n",
    "def sentence_to_vec(sentence):\n",
    "    words = sentence.split()\n",
    "    feature_vec = np.zeros((word2vec_model.vector_size,), dtype=\"float32\")\n",
    "    n_words = 0\n",
    "    for word in words:\n",
    "        if word in word2vec_model.wv:\n",
    "            n_words = n_words + 1\n",
    "            feature_vec = np.add(feature_vec, word2vec_model.wv[word])\n",
    "    if n_words > 0:\n",
    "        feature_vec = np.divide(feature_vec, n_words)\n",
    "    return feature_vec\n",
    "\n",
    "def save_feature_vectors(word2vec_model, tokenized_data_file, feature_vector_file):\n",
    "    with open(tokenized_data_file, 'r') as file:\n",
    "        lines = file.readlines()\n",
    "        \n",
    "    with open(feature_vector_file, 'w') as file:\n",
    "        for line in tqdm(lines):\n",
    "            label, text = line.strip().split(':')\n",
    "            words = text.split()\n",
    "            feature_vector = np.zeros((word2vec_model.vector_size,), dtype=\"float32\")\n",
    "            n_words = 0\n",
    "            for word in words:\n",
    "                if word in word2vec_model.wv:\n",
    "                    n_words = n_words + 1\n",
    "                    feature_vector = np.add(feature_vector, word2vec_model.wv[word])\n",
    "            if n_words > 0:\n",
    "                feature_vector = np.divide(feature_vector, n_words)\n",
    "            feature_vector = ' '.join(str(x) for x in feature_vector)\n",
    "            file.write(f'{label} {feature_vector}\\n')\n",
    "\n",
    "save_feature_vectors(word2vec_model, 'tokenized_data.txt', 'feature_vectors.txt')\n"
   ]
  },
  {
   "attachments": {},
   "cell_type": "markdown",
   "metadata": {},
   "source": [
    "<h3>Separating test and training data</h3>"
   ]
  },
  {
   "cell_type": "code",
   "execution_count": 4,
   "metadata": {},
   "outputs": [],
   "source": [
    "import random\n",
    "\n",
    "def separate_data(file_path, ratio=0.8):\n",
    "    with open(file_path, 'r') as f:\n",
    "        lines = f.readlines()\n",
    "    random.shuffle(lines)\n",
    "    num_training = int(ratio * len(lines))\n",
    "    training_data = lines[:num_training]\n",
    "    testing_data = lines[num_training:]\n",
    "    return training_data, testing_data\n",
    "\n",
    "training_data, testing_data = separate_data('feature_vectors.txt')\n",
    "\n",
    "with open('training_data.txt', 'w') as f:\n",
    "    f.writelines(training_data)\n",
    "\n",
    "with open('testing_data.txt', 'w') as f:\n",
    "    f.writelines(testing_data)\n"
   ]
  },
  {
   "cell_type": "code",
   "execution_count": null,
   "metadata": {},
   "outputs": [],
   "source": []
  }
 ],
 "metadata": {
  "kernelspec": {
   "display_name": "Python 3",
   "language": "python",
   "name": "python3"
  },
  "language_info": {
   "codemirror_mode": {
    "name": "ipython",
    "version": 3
   },
   "file_extension": ".py",
   "mimetype": "text/x-python",
   "name": "python",
   "nbconvert_exporter": "python",
   "pygments_lexer": "ipython3",
   "version": "3.10.6"
  },
  "orig_nbformat": 4,
  "vscode": {
   "interpreter": {
    "hash": "e7370f93d1d0cde622a1f8e1c04877d8463912d04d973331ad4851f04de6915a"
   }
  }
 },
 "nbformat": 4,
 "nbformat_minor": 2
}
