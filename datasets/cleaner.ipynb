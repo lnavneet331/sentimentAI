{
 "cells": [
  {
   "cell_type": "code",
   "execution_count": 1,
   "metadata": {},
   "outputs": [],
   "source": [
    "extract = []\n",
    "file = open(\"data.txt\", \"r\")\n",
    "for i in file:\n",
    "    extract.append(i)\n",
    "    "
   ]
  },
  {
   "cell_type": "code",
   "execution_count": 3,
   "metadata": {},
   "outputs": [
    {
     "name": "stdout",
     "output_type": "stream",
     "text": [
      "Size of list before removal of duplicates: 1678305\n",
      "Size of list after removal of duplicates: 1660970\n",
      "Number of duplicates removed: 17335\n"
     ]
    }
   ],
   "source": [
    "print(f\"Size of list before removal of duplicates: {len(extract)}\")\n",
    "res = [*set(extract)]\n",
    "print(f\"Size of list after removal of duplicates: {len(res)}\")\n",
    "print(f\"Number of duplicates removed: {len(extract) - len(res)}\")"
   ]
  },
  {
   "attachments": {},
   "cell_type": "markdown",
   "metadata": {},
   "source": [
    "-1 => negative <br>\n",
    "0 => neutral <br>\n",
    "1 => positive <br>"
   ]
  },
  {
   "cell_type": "code",
   "execution_count": 8,
   "metadata": {},
   "outputs": [],
   "source": [
    "new = []\n",
    "for i in res:\n",
    "    if \"negative\" in i:\n",
    "        new.append(i.replace(\"negative\", \"-1\"))\n",
    "    elif \"positive\" in i:\n",
    "        new.append(i.replace(\"positive\", \"1\"))\n",
    "    elif \"neutral\" in i:\n",
    "        new.append(i.replace(\"neutral\", \"0\"))"
   ]
  },
  {
   "cell_type": "code",
   "execution_count": 9,
   "metadata": {},
   "outputs": [],
   "source": [
    "file = open(\"cleaned_data.txt\", \"w+\")\n",
    "for i in new:\n",
    "    file.write(i)\n",
    "file.close()"
   ]
  },
  {
   "cell_type": "code",
   "execution_count": 11,
   "metadata": {},
   "outputs": [
    {
     "name": "stdout",
     "output_type": "stream",
     "text": [
      "rm: cannot remove 'data.txt': No such file or directory\n"
     ]
    }
   ],
   "source": [
    "!rm data.txt\n",
    "!mv cleaned_data.txt data.txt"
   ]
  },
  {
   "cell_type": "code",
   "execution_count": null,
   "metadata": {},
   "outputs": [],
   "source": [
    "#trying to commit"
   ]
  }
 ],
 "metadata": {
  "kernelspec": {
   "display_name": "Python 3",
   "language": "python",
   "name": "python3"
  },
  "language_info": {
   "codemirror_mode": {
    "name": "ipython",
    "version": 3
   },
   "file_extension": ".py",
   "mimetype": "text/x-python",
   "name": "python",
   "nbconvert_exporter": "python",
   "pygments_lexer": "ipython3",
   "version": "3.10.6 (main, Nov 14 2022, 16:10:14) [GCC 11.3.0]"
  },
  "orig_nbformat": 4,
  "vscode": {
   "interpreter": {
    "hash": "e7370f93d1d0cde622a1f8e1c04877d8463912d04d973331ad4851f04de6915a"
   }
  }
 },
 "nbformat": 4,
 "nbformat_minor": 2
}
